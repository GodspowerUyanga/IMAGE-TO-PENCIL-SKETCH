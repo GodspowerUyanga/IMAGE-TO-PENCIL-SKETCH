{
  "nbformat": 4,
  "nbformat_minor": 0,
  "metadata": {
    "colab": {
      "provenance": []
    },
    "kernelspec": {
      "name": "python3",
      "display_name": "Python 3"
    },
    "language_info": {
      "name": "python"
    }
  },
  "cells": [
    {
      "cell_type": "markdown",
      "source": [
        "# **IMAGE** **TO PENCIL SKETCH** "
      ],
      "metadata": {
        "id": "D_XAxDthu9SA"
      }
    },
    {
      "cell_type": "markdown",
      "source": [
        "###**EXECUTED BY GODSPOWER UYANGA**"
      ],
      "metadata": {
        "id": "2b3q-JzESgIL"
      }
    },
    {
      "cell_type": "markdown",
      "source": [
        "# **PROBLEM** **STATEMENT**"
      ],
      "metadata": {
        "id": "zECf6lWqSrz9"
      }
    },
    {
      "cell_type": "markdown",
      "source": [
        "### Here we need to read the image in RBG format and then convert it to a grayscale image. This will turn an image into a classic black and white photo. we will finally create the pencil sketch by mixing the gray scale image with the inverted blurry image.\n",
        "### We will Be Using Python cv2 Library."
      ],
      "metadata": {
        "id": "vhQYJKGDMTKB"
      }
    },
    {
      "cell_type": "code",
      "source": [
        "import cv2"
      ],
      "metadata": {
        "id": "F2TvaMbAtP89"
      },
      "execution_count": 2,
      "outputs": []
    },
    {
      "cell_type": "code",
      "source": [
        "img = cv2.imread(\"/content/Godspower.jpg\")\n"
      ],
      "metadata": {
        "id": "lN4sbWVDvD0J"
      },
      "execution_count": 17,
      "outputs": []
    },
    {
      "cell_type": "code",
      "source": [
        "img.shape"
      ],
      "metadata": {
        "colab": {
          "base_uri": "https://localhost:8080/"
        },
        "id": "vHunq-SYS9C2",
        "outputId": "7abe9bac-03a0-475f-ab67-13486231f24d"
      },
      "execution_count": 19,
      "outputs": [
        {
          "output_type": "execute_result",
          "data": {
            "text/plain": [
              "(434, 249, 3)"
            ]
          },
          "metadata": {},
          "execution_count": 19
        }
      ]
    },
    {
      "cell_type": "code",
      "source": [
        "grey_img = cv2.cvtColor(img, cv2.COLOR_BGR2GRAY)"
      ],
      "metadata": {
        "id": "7WDklEwV-rZA"
      },
      "execution_count": 4,
      "outputs": []
    },
    {
      "cell_type": "code",
      "source": [
        "invert = cv2.bitwise_not(grey_img)"
      ],
      "metadata": {
        "id": "YMqQVF9B-6Yv"
      },
      "execution_count": 5,
      "outputs": []
    },
    {
      "cell_type": "code",
      "source": [
        "blur = cv2.GaussianBlur(invert, (21,21), 0)"
      ],
      "metadata": {
        "id": "08GiX-o-_GtJ"
      },
      "execution_count": 6,
      "outputs": []
    },
    {
      "cell_type": "code",
      "source": [
        "invertblur = cv2.bitwise_not(blur)"
      ],
      "metadata": {
        "id": "qvfBGpL3_mW9"
      },
      "execution_count": 7,
      "outputs": []
    },
    {
      "cell_type": "code",
      "source": [
        "sketch = cv2.divide(grey_img, invertblur, scale=256.0)"
      ],
      "metadata": {
        "id": "4S_o8nAW_yAe"
      },
      "execution_count": 11,
      "outputs": []
    },
    {
      "cell_type": "code",
      "source": [
        "cv2.imwrite(\"Sketch_Godspower.png\",sketch)"
      ],
      "metadata": {
        "colab": {
          "base_uri": "https://localhost:8080/"
        },
        "id": "Ge2yzgeMAKy2",
        "outputId": "38280509-3ed9-4693-d13c-ad9abca0c854"
      },
      "execution_count": 13,
      "outputs": [
        {
          "output_type": "execute_result",
          "data": {
            "text/plain": [
              "True"
            ]
          },
          "metadata": {},
          "execution_count": 13
        }
      ]
    },
    {
      "cell_type": "code",
      "source": [
        "sketch.shape"
      ],
      "metadata": {
        "colab": {
          "base_uri": "https://localhost:8080/"
        },
        "id": "f_3xX4RzK6-L",
        "outputId": "b6100c23-12c4-4d1f-f3b4-8e759ccc246d"
      },
      "execution_count": 16,
      "outputs": [
        {
          "output_type": "execute_result",
          "data": {
            "text/plain": [
              "(434, 249)"
            ]
          },
          "metadata": {},
          "execution_count": 16
        }
      ]
    }
  ]
}